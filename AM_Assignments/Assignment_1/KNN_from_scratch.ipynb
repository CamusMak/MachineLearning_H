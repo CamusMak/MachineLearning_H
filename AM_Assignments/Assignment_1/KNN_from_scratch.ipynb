{
 "cells": [
  {
   "cell_type": "code",
   "execution_count": 2,
   "id": "ac96ca50",
   "metadata": {},
   "outputs": [],
   "source": [
    "import numpy as np\n",
    "import pandas as pd\n",
    "import matplotlib.pyplot as plt\n",
    "import seaborn as sns\n",
    "from sklearn.model_selection import train_test_split\n",
    "from collections import Counter\n",
    "\n",
    "from sklearn.metrics import confusion_matrix\n",
    "from sklearn.metrics import classification_report"
   ]
  },
  {
   "cell_type": "code",
   "execution_count": null,
   "id": "c8216aa1",
   "metadata": {},
   "outputs": [],
   "source": []
  },
  {
   "cell_type": "code",
   "execution_count": null,
   "id": "47421027",
   "metadata": {},
   "outputs": [],
   "source": []
  },
  {
   "cell_type": "code",
   "execution_count": null,
   "id": "55ce8aec",
   "metadata": {},
   "outputs": [],
   "source": []
  },
  {
   "cell_type": "code",
   "execution_count": 3,
   "id": "d80cd8c2",
   "metadata": {},
   "outputs": [],
   "source": [
    "df = pd.read_csv(\"wine.csv\")"
   ]
  },
  {
   "cell_type": "code",
   "execution_count": 4,
   "id": "c1072c74",
   "metadata": {},
   "outputs": [
    {
     "data": {
      "text/html": [
       "<div>\n",
       "<style scoped>\n",
       "    .dataframe tbody tr th:only-of-type {\n",
       "        vertical-align: middle;\n",
       "    }\n",
       "\n",
       "    .dataframe tbody tr th {\n",
       "        vertical-align: top;\n",
       "    }\n",
       "\n",
       "    .dataframe thead th {\n",
       "        text-align: right;\n",
       "    }\n",
       "</style>\n",
       "<table border=\"1\" class=\"dataframe\">\n",
       "  <thead>\n",
       "    <tr style=\"text-align: right;\">\n",
       "      <th></th>\n",
       "      <th>fixed acidity</th>\n",
       "      <th>volatile acidity</th>\n",
       "      <th>citric acid</th>\n",
       "      <th>residual sugar</th>\n",
       "      <th>chlorides</th>\n",
       "      <th>free sulfur dioxide</th>\n",
       "      <th>total sulfur dioxide</th>\n",
       "      <th>density</th>\n",
       "      <th>pH</th>\n",
       "      <th>sulphates</th>\n",
       "      <th>alcohol</th>\n",
       "      <th>quality</th>\n",
       "    </tr>\n",
       "  </thead>\n",
       "  <tbody>\n",
       "    <tr>\n",
       "      <th>0</th>\n",
       "      <td>7.4</td>\n",
       "      <td>0.70</td>\n",
       "      <td>0.00</td>\n",
       "      <td>1.9</td>\n",
       "      <td>0.076</td>\n",
       "      <td>11.0</td>\n",
       "      <td>34.0</td>\n",
       "      <td>0.9978</td>\n",
       "      <td>3.51</td>\n",
       "      <td>0.56</td>\n",
       "      <td>9.4</td>\n",
       "      <td>bad</td>\n",
       "    </tr>\n",
       "    <tr>\n",
       "      <th>1</th>\n",
       "      <td>7.8</td>\n",
       "      <td>0.88</td>\n",
       "      <td>0.00</td>\n",
       "      <td>2.6</td>\n",
       "      <td>0.098</td>\n",
       "      <td>25.0</td>\n",
       "      <td>67.0</td>\n",
       "      <td>0.9968</td>\n",
       "      <td>3.20</td>\n",
       "      <td>0.68</td>\n",
       "      <td>9.8</td>\n",
       "      <td>bad</td>\n",
       "    </tr>\n",
       "    <tr>\n",
       "      <th>2</th>\n",
       "      <td>7.8</td>\n",
       "      <td>0.76</td>\n",
       "      <td>0.04</td>\n",
       "      <td>2.3</td>\n",
       "      <td>0.092</td>\n",
       "      <td>15.0</td>\n",
       "      <td>54.0</td>\n",
       "      <td>0.9970</td>\n",
       "      <td>3.26</td>\n",
       "      <td>0.65</td>\n",
       "      <td>9.8</td>\n",
       "      <td>bad</td>\n",
       "    </tr>\n",
       "    <tr>\n",
       "      <th>3</th>\n",
       "      <td>11.2</td>\n",
       "      <td>0.28</td>\n",
       "      <td>0.56</td>\n",
       "      <td>1.9</td>\n",
       "      <td>0.075</td>\n",
       "      <td>17.0</td>\n",
       "      <td>60.0</td>\n",
       "      <td>0.9980</td>\n",
       "      <td>3.16</td>\n",
       "      <td>0.58</td>\n",
       "      <td>9.8</td>\n",
       "      <td>good</td>\n",
       "    </tr>\n",
       "    <tr>\n",
       "      <th>4</th>\n",
       "      <td>7.4</td>\n",
       "      <td>0.70</td>\n",
       "      <td>0.00</td>\n",
       "      <td>1.9</td>\n",
       "      <td>0.076</td>\n",
       "      <td>11.0</td>\n",
       "      <td>34.0</td>\n",
       "      <td>0.9978</td>\n",
       "      <td>3.51</td>\n",
       "      <td>0.56</td>\n",
       "      <td>9.4</td>\n",
       "      <td>bad</td>\n",
       "    </tr>\n",
       "  </tbody>\n",
       "</table>\n",
       "</div>"
      ],
      "text/plain": [
       "   fixed acidity  volatile acidity  citric acid  residual sugar  chlorides  \\\n",
       "0            7.4              0.70         0.00             1.9      0.076   \n",
       "1            7.8              0.88         0.00             2.6      0.098   \n",
       "2            7.8              0.76         0.04             2.3      0.092   \n",
       "3           11.2              0.28         0.56             1.9      0.075   \n",
       "4            7.4              0.70         0.00             1.9      0.076   \n",
       "\n",
       "   free sulfur dioxide  total sulfur dioxide  density    pH  sulphates  \\\n",
       "0                 11.0                  34.0   0.9978  3.51       0.56   \n",
       "1                 25.0                  67.0   0.9968  3.20       0.68   \n",
       "2                 15.0                  54.0   0.9970  3.26       0.65   \n",
       "3                 17.0                  60.0   0.9980  3.16       0.58   \n",
       "4                 11.0                  34.0   0.9978  3.51       0.56   \n",
       "\n",
       "   alcohol quality  \n",
       "0      9.4     bad  \n",
       "1      9.8     bad  \n",
       "2      9.8     bad  \n",
       "3      9.8    good  \n",
       "4      9.4     bad  "
      ]
     },
     "execution_count": 4,
     "metadata": {},
     "output_type": "execute_result"
    }
   ],
   "source": [
    "df.head()"
   ]
  },
  {
   "cell_type": "code",
   "execution_count": 5,
   "id": "c9b04c1c",
   "metadata": {},
   "outputs": [
    {
     "data": {
      "text/plain": [
       "0"
      ]
     },
     "execution_count": 5,
     "metadata": {},
     "output_type": "execute_result"
    }
   ],
   "source": [
    "df.isna().sum().sum()"
   ]
  },
  {
   "cell_type": "code",
   "execution_count": 6,
   "id": "ccb765bf",
   "metadata": {},
   "outputs": [
    {
     "data": {
      "text/plain": [
       "fixed acidity           float64\n",
       "volatile acidity        float64\n",
       "citric acid             float64\n",
       "residual sugar          float64\n",
       "chlorides               float64\n",
       "free sulfur dioxide     float64\n",
       "total sulfur dioxide    float64\n",
       "density                 float64\n",
       "pH                      float64\n",
       "sulphates               float64\n",
       "alcohol                 float64\n",
       "quality                  object\n",
       "dtype: object"
      ]
     },
     "execution_count": 6,
     "metadata": {},
     "output_type": "execute_result"
    }
   ],
   "source": [
    "df.dtypes"
   ]
  },
  {
   "cell_type": "code",
   "execution_count": 7,
   "id": "3b97fa7f",
   "metadata": {},
   "outputs": [
    {
     "data": {
      "text/plain": [
       "array(['bad', 'good'], dtype=object)"
      ]
     },
     "execution_count": 7,
     "metadata": {},
     "output_type": "execute_result"
    }
   ],
   "source": [
    "df.quality.unique()"
   ]
  },
  {
   "cell_type": "code",
   "execution_count": 8,
   "id": "c12426b0",
   "metadata": {},
   "outputs": [],
   "source": [
    "X = df.drop(\"quality\",axis=1).to_numpy()\n",
    "Y = np.where(df['quality']=='good',1,0)"
   ]
  },
  {
   "cell_type": "code",
   "execution_count": 9,
   "id": "0dd5bd56",
   "metadata": {
    "scrolled": true
   },
   "outputs": [
    {
     "data": {
      "text/plain": [
       "((1599, 11), (1599,))"
      ]
     },
     "execution_count": 9,
     "metadata": {},
     "output_type": "execute_result"
    }
   ],
   "source": [
    "X.shape,Y.shape"
   ]
  },
  {
   "cell_type": "code",
   "execution_count": 10,
   "id": "799a5115",
   "metadata": {},
   "outputs": [
    {
     "data": {
      "text/plain": [
       "True"
      ]
     },
     "execution_count": 10,
     "metadata": {},
     "output_type": "execute_result"
    }
   ],
   "source": [
    "(((X-X.mean(axis=0))[:,0])/X.std(axis=0)[0] == (X[:,0]-X[:,0].mean())/X[:,0].std()).sum() == X.shape[0]"
   ]
  },
  {
   "cell_type": "code",
   "execution_count": 11,
   "id": "5ca0ea2a",
   "metadata": {},
   "outputs": [],
   "source": [
    "def scaler(X):\n",
    "    return (X-X.mean(axis=0))/X.std(axis=0)"
   ]
  },
  {
   "cell_type": "code",
   "execution_count": 12,
   "id": "77db82a9",
   "metadata": {},
   "outputs": [
    {
     "data": {
      "image/png": "[encoded data removed]",
      "text/plain": [
       "<Figure size 1300x500 with 4 Axes>"
      ]
     },
     "metadata": {},
     "output_type": "display_data"
    }
   ],
   "source": [
    "fig,ax = plt.subplots(2,2)\n",
    "fig.set_figwidth(13)\n",
    "fig.set_figheight(5)\n",
    "\n",
    "p1 = ax[0][0]\n",
    "p2 = ax[0][1]\n",
    "p3 = ax[1][0]\n",
    "p4 = ax[1][1]\n",
    "\n",
    "p1.plot(X.sum(axis=1))\n",
    "p2.plot(scaler(X).sum(axis=1))\n",
    "p3.plot(X)\n",
    "p4.plot(scaler(X))\n",
    "\n",
    "# plt.plot(X.sum(axis=1))\n",
    "\n",
    "plt.show()"
   ]
  },
  {
   "cell_type": "code",
   "execution_count": 13,
   "id": "2317aee5",
   "metadata": {},
   "outputs": [],
   "source": [
    "X_S = scaler(X)\n",
    "\n",
    "X_train,X_test,Y_train,Y_test = train_test_split(X_S,Y,test_size=0.2,random_state=100)"
   ]
  },
  {
   "cell_type": "code",
   "execution_count": 14,
   "id": "5e1a0795",
   "metadata": {
    "scrolled": false
   },
   "outputs": [
    {
     "data": {
      "text/plain": [
       "((1279, 11), (1279,))"
      ]
     },
     "execution_count": 14,
     "metadata": {},
     "output_type": "execute_result"
    }
   ],
   "source": [
    "X_train.shape,Y_train.shape"
   ]
  },
  {
   "cell_type": "code",
   "execution_count": 24,
   "id": "1004126c",
   "metadata": {},
   "outputs": [],
   "source": [
    "class KNN:\n",
    "    \n",
    "    def __init__(self,k=5):\n",
    "        \n",
    "        self.k = k\n",
    "        \n",
    "    def fit(self,input_data,target):\n",
    "        \n",
    "        self.X = input_data\n",
    "        self.Y = target\n",
    "        \n",
    "    def set_new_k(self,k):\n",
    "        self.k = k\n",
    "        \n",
    "    def metric(self,x1,x2):\n",
    "        \n",
    "        return np.sum((x1 - x2)**2)\n",
    "        \n",
    "        \n",
    "    def predict(self,X):\n",
    "        return np.array([self._predict(x) for x in X])\n",
    "    \n",
    "    def _predict(self,input_data):\n",
    "        \n",
    "        distances = [self.metric(input_data,i) for i in self.X]\n",
    "        \n",
    "        minn = np.argsort(distances)[:self.k]\n",
    "        labels = [self.Y[i] for i in minn]\n",
    "        \n",
    "        mst_common = Counter(labels).most_common(1)\n",
    "        \n",
    "        return mst_common[0][0]\n",
    "    \n",
    "    \n",
    "#     validation\n",
    "\n",
    "#     def validate(self,split_ = 5):\n",
    "        \n",
    "# #         self.performace_over_validation = {}\n",
    "#         mean_accuracy = []\n",
    "#         list_k = []\n",
    "        \n",
    "#         accuracy = 0\n",
    "#         best_k = 1\n",
    "        \n",
    "#         for k in range(1,int(np.sqrt(self.X.shape[0]))):\n",
    "            \n",
    "#             X_train,X_test,Y_train,Y_test = train_test_split(self.X,self.Y,test_size=0.2)\n",
    "            \n",
    "#             accuracies = []\n",
    "            \n",
    "#             for i in range(split_):\n",
    "\n",
    "#                 model = KNN(k)\n",
    "#                 model.fit(X_train,Y_train)\n",
    "                \n",
    "#                 prediction = model.predict(X_test)\n",
    "                \n",
    "#                 _accuracy = model.accuracy(prediction,Y_test)\n",
    "#                 accuracies.append(_accuracy)\n",
    "            \n",
    "#             mean_accuracy.append(np.mean(accuracies))\n",
    "#             list_k.append(k)\n",
    "            \n",
    "#             if np.mean(accuracies) > accuracy:\n",
    "#                 best_k = k\n",
    "                \n",
    "#         return mean_accuracy,list_k,best_k\n",
    "\n",
    "    def validate(self):\n",
    "        \n",
    "        k_list = []\n",
    "        mean_accuraccies = []\n",
    "        mean_f1 = []\n",
    "        \n",
    "        for k in range(1,30):\n",
    "\n",
    "            X_train,X_test,Y_train,Y_test = train_test_split(self.X,self.Y,test_size = 0.2)\n",
    "           \n",
    "            accuraccies = []\n",
    "            f1 = []\n",
    "            \n",
    "            for j in range(10):\n",
    "\n",
    "                model = KNN(k)\n",
    "                model.fit(X_train,Y_train)\n",
    "#                 print(model)\n",
    "#                 print(X_test)\n",
    "                predicted = model.predict(X_test)\n",
    "    \n",
    "                accuraccies.append(self.accuracy(predicted,Y_test))\n",
    "                f1.append(self.f1_score(predicted,Y_test))\n",
    "            \n",
    "            \n",
    "            k_list.append(k)\n",
    "            mean_accuraccies.append(np.mean(accuraccies))\n",
    "            mean_f1.append(np.mean(f1))\n",
    "            \n",
    "        return np.array(k_list),np.array(mean_accuraccies),np.array(mean_f1)\n",
    "\n",
    "                \n",
    "    \n",
    "#     accuracy metrics\n",
    "\n",
    "    def accuracy(self,prediction,real):\n",
    "        return round(100*(prediction == real).sum()/prediction.shape[0])\n",
    "    \n",
    "    def precision(self,prediction,real):\n",
    "        TruePositive = np.where((prediction == 1) & (real == 1),1,0).sum()\n",
    "        FalsePositive = np.where((prediction == 1) & (real == 0),1,0).sum()\n",
    "        \n",
    "        prec = round(100*TruePositive/(TruePositive + FalsePositive))\n",
    "        \n",
    "        return prec\n",
    "        \n",
    "    def sensitivity(self,prediction,real):\n",
    "        \n",
    "        TruePositive = np.where((prediction == 1) & (real == 1),1,0).sum()\n",
    "        FalseNegative = np.where((prediction == 0) & (real == 1),1,0).sum()\n",
    "        \n",
    "        rec = round(100*TruePositive/(TruePositive + FalseNegative))\n",
    "        \n",
    "        return rec\n",
    "        \n",
    "        \n",
    "    def specificity(self,prediction,real):\n",
    "        \n",
    "        TrueNegative = np.where((prediction == 0) & (real == 0),1,0).sum()\n",
    "        FalseNegative = np.where((prediction == 1) & (real == 0),1,0).sum()\n",
    "        \n",
    "        trn = round(100*TrueNegative/(TrueNegative+FalseNegative))\n",
    "        \n",
    "        return trn\n",
    "    \n",
    "    def FalseNegativeRate(self,prediction,real):\n",
    "        \n",
    "        FalseNegative = np.where((prediction == 0) & (real == 1),1,0).sum()\n",
    "        TruePositive = np.where((prediction == 1) & (real == 1),1,0).sum()\n",
    "        \n",
    "        fnr = round(100 * FalseNegative/(FalseNegative + TruePositive))\n",
    "        return fnr\n",
    "    \n",
    "    def FalsePositiveRate(self,prediction,real):\n",
    "        \n",
    "        FalsePositive = np.where((prediction == 1) & (real == 0),1,0).sum()\n",
    "        TrueNegative = np.where((prediction == 0) & (real == 0),1,0).sum()\n",
    "        \n",
    "        fpr = round(100*FalsePositive/(FalsePositive + TrueNegative))\n",
    "        \n",
    "        return fpr\n",
    "    \n",
    "    def f1_score(self,prediction,real):\n",
    "        \n",
    "        TruePositive = np.where((prediction == 1) & (real == 1),1,0).sum()\n",
    "        FalseNegative = np.where((prediction == 0) & (real == 1),1,0).sum()\n",
    "        FalsePositive = np.where((prediction == 1) & (real == 0),1,0).sum()\n",
    "        \n",
    "        rec =  TruePositive/(TruePositive + FalseNegative)\n",
    "        prec = TruePositive/(TruePositive + FalsePositive)\n",
    "        \n",
    "        f1 = round(100 * (2*prec*rec)/(prec+rec)) \n",
    "        \n",
    "        return f1\n",
    "    \n",
    "    def class_performace_measures(self,predicition,real):\n",
    "        \n",
    "#         TruePositive = np.where((prediction == 1) & (real == 1),1,0).sum()\n",
    "#         FalsePositive = np.where((prediction == 1) & (real == 0),1,0).sum()\n",
    "        \n",
    "#         TrueNegative = np.where((prediction == 0) & (real == 0),1,0).sum()\n",
    "#         FalseNegative = np.where((prediction == 0) & (real == 1),1,0).sum()\n",
    "        \n",
    "#         acc = round(100 * (TruePositive + TrueNegative)/(TruePositive + TrueNegative + FalsePositive + FalseNegative))\n",
    "\n",
    "        performance_measures ={\"accuracy\" : self.accuracy(prediction,real),\n",
    "                            \"precision\" : self.precision(prediction,real),\n",
    "                            \"sensitivity\" : self.sensitivity(prediction,real),\n",
    "                            \"specificity\" : self.specificity(prediction,real),\n",
    "                            \"false_negative_rate\" : self.FalseNegativeRate(prediction,real),\n",
    "                            \"false_positive_rate\" : self.FalsePositiveRate(prediction,real),\n",
    "                            \"f1_score\" : self.f1_score(prediction,real)}\n",
    "\n",
    "        return performance_measures\n",
    "    "
   ]
  },
  {
   "cell_type": "code",
   "execution_count": 25,
   "id": "a539f422",
   "metadata": {},
   "outputs": [],
   "source": [
    "model = KNN(5)\n",
    "model.fit(X_train,Y_train)\n",
    "prediction = model.predict(X_test)"
   ]
  },
  {
   "cell_type": "code",
   "execution_count": 26,
   "id": "21c7e987",
   "metadata": {},
   "outputs": [],
   "source": [
    "k_list,accuracies = model.validate()"
   ]
  },
  {
   "cell_type": "code",
   "execution_count": 66,
   "id": "f2e5dd0c",
   "metadata": {},
   "outputs": [
    {
     "data": {
      "text/plain": [
       "(5, 78.0)"
      ]
     },
     "execution_count": 66,
     "metadata": {},
     "output_type": "execute_result"
    }
   ],
   "source": [
    "best_k = k_list[np.argmax(accuracies)]\n",
    "max_accuracy = np.max(accuracies)\n",
    "best_k, max_accuracy"
   ]
  },
  {
   "cell_type": "code",
   "execution_count": 76,
   "id": "28dfb208",
   "metadata": {},
   "outputs": [
    {
     "data": {
      "text/plain": [
       "Text(0.5, 0, 'K')"
      ]
     },
     "execution_count": 76,
     "metadata": {},
     "output_type": "execute_result"
    },
    {
     "data": {
      "image/png": "[encoded data removed]",
      "text/plain": [
       "<Figure size 640x480 with 1 Axes>"
      ]
     },
     "metadata": {},
     "output_type": "display_data"
    }
   ],
   "source": [
    "plt.plot(k_list,accuracies,color='blue',marker='o')\n",
    "plt.axvline(x=best_k,ymin=0,ymax=max_accuracy/100,color='orange')\n",
    "plt.axhline(y=max_accuracy,xmin=0,xmax=best_k/29,color='orange')\n",
    "plt.ylim(0,100)\n",
    "\n",
    "\n",
    "plt.ylabel(\"Accuracy\")\n",
    "plt.xlabel(\"K\")"
   ]
  },
  {
   "cell_type": "code",
   "execution_count": 50,
   "id": "334e05a7",
   "metadata": {},
   "outputs": [],
   "source": [
    "model = KNN(best_k)\n",
    "model.fit(X_train,Y_train)\n",
    "prediction = model.predict(X_test)"
   ]
  },
  {
   "cell_type": "code",
   "execution_count": null,
   "id": "3b439448",
   "metadata": {},
   "outputs": [],
   "source": []
  },
  {
   "cell_type": "code",
   "execution_count": 51,
   "id": "7cad877a",
   "metadata": {},
   "outputs": [
    {
     "data": {
      "text/plain": [
       "75"
      ]
     },
     "execution_count": 51,
     "metadata": {},
     "output_type": "execute_result"
    }
   ],
   "source": [
    "accuracy = model.accuracy(prediction,Y_test)\n",
    "accuracy"
   ]
  },
  {
   "cell_type": "code",
   "execution_count": 52,
   "id": "b9c1f3b4",
   "metadata": {},
   "outputs": [
    {
     "data": {
      "text/plain": [
       "74"
      ]
     },
     "execution_count": 52,
     "metadata": {},
     "output_type": "execute_result"
    }
   ],
   "source": [
    "precision = model.precision(prediction,Y_test)\n",
    "precision"
   ]
  },
  {
   "cell_type": "code",
   "execution_count": 53,
   "id": "e53d08f9",
   "metadata": {},
   "outputs": [
    {
     "data": {
      "text/plain": [
       "81"
      ]
     },
     "execution_count": 53,
     "metadata": {},
     "output_type": "execute_result"
    }
   ],
   "source": [
    "specificity = model.sensitivity(prediction,Y_test)\n",
    "specificity"
   ]
  },
  {
   "cell_type": "code",
   "execution_count": 54,
   "id": "1c350b8d",
   "metadata": {},
   "outputs": [
    {
     "data": {
      "text/plain": [
       "68"
      ]
     },
     "execution_count": 54,
     "metadata": {},
     "output_type": "execute_result"
    }
   ],
   "source": [
    "specificity = model.specificity(prediction,Y_test)\n",
    "specificity"
   ]
  },
  {
   "cell_type": "code",
   "execution_count": 55,
   "id": "1abb87b1",
   "metadata": {},
   "outputs": [
    {
     "data": {
      "text/plain": [
       "19"
      ]
     },
     "execution_count": 55,
     "metadata": {},
     "output_type": "execute_result"
    }
   ],
   "source": [
    "FalseNegativeRate = model.FalseNegativeRate(prediction,Y_test)\n",
    "FalseNegativeRate"
   ]
  },
  {
   "cell_type": "code",
   "execution_count": 56,
   "id": "2ad7b555",
   "metadata": {},
   "outputs": [
    {
     "data": {
      "text/plain": [
       "32"
      ]
     },
     "execution_count": 56,
     "metadata": {},
     "output_type": "execute_result"
    }
   ],
   "source": [
    "FalsePositiveRate = model.FalsePositiveRate(prediction,Y_test)\n",
    "FalsePositiveRate"
   ]
  },
  {
   "cell_type": "code",
   "execution_count": 57,
   "id": "b33f7fa0",
   "metadata": {},
   "outputs": [
    {
     "data": {
      "text/plain": [
       "array([[100,  48],\n",
       "       [ 33, 139]], dtype=int64)"
      ]
     },
     "execution_count": 57,
     "metadata": {},
     "output_type": "execute_result"
    }
   ],
   "source": [
    "confusion_matrix(Y_test,prediction)"
   ]
  },
  {
   "cell_type": "code",
   "execution_count": 58,
   "id": "d37618d7",
   "metadata": {},
   "outputs": [
    {
     "data": {
      "text/plain": [
       "77"
      ]
     },
     "execution_count": 58,
     "metadata": {},
     "output_type": "execute_result"
    }
   ],
   "source": [
    "f1 = model.f1_score(prediction,Y_test)\n",
    "f1"
   ]
  },
  {
   "cell_type": "code",
   "execution_count": 61,
   "id": "c0f18c35",
   "metadata": {},
   "outputs": [
    {
     "data": {
      "text/plain": [
       "{'accuracy': 75,\n",
       " 'precision': 74,\n",
       " 'sensitivity': 81,\n",
       " 'specificity': 68,\n",
       " 'false_negative_rate': 19,\n",
       " 'false_positive_rate': 32,\n",
       " 'f1_score': 77}"
      ]
     },
     "execution_count": 61,
     "metadata": {},
     "output_type": "execute_result"
    }
   ],
   "source": [
    "p_m = model.class_performace_measures(prediction,Y_test)\n",
    "p_m"
   ]
  },
  {
   "cell_type": "code",
   "execution_count": 62,
   "id": "7286a37e",
   "metadata": {},
   "outputs": [
    {
     "data": {
      "text/html": [
       "<div>\n",
       "<style scoped>\n",
       "    .dataframe tbody tr th:only-of-type {\n",
       "        vertical-align: middle;\n",
       "    }\n",
       "\n",
       "    .dataframe tbody tr th {\n",
       "        vertical-align: top;\n",
       "    }\n",
       "\n",
       "    .dataframe thead th {\n",
       "        text-align: right;\n",
       "    }\n",
       "</style>\n",
       "<table border=\"1\" class=\"dataframe\">\n",
       "  <thead>\n",
       "    <tr style=\"text-align: right;\">\n",
       "      <th></th>\n",
       "      <th>0</th>\n",
       "    </tr>\n",
       "  </thead>\n",
       "  <tbody>\n",
       "    <tr>\n",
       "      <th>0</th>\n",
       "      <td>75</td>\n",
       "    </tr>\n",
       "    <tr>\n",
       "      <th>1</th>\n",
       "      <td>74</td>\n",
       "    </tr>\n",
       "    <tr>\n",
       "      <th>2</th>\n",
       "      <td>81</td>\n",
       "    </tr>\n",
       "    <tr>\n",
       "      <th>3</th>\n",
       "      <td>68</td>\n",
       "    </tr>\n",
       "    <tr>\n",
       "      <th>4</th>\n",
       "      <td>19</td>\n",
       "    </tr>\n",
       "    <tr>\n",
       "      <th>5</th>\n",
       "      <td>32</td>\n",
       "    </tr>\n",
       "    <tr>\n",
       "      <th>6</th>\n",
       "      <td>77</td>\n",
       "    </tr>\n",
       "  </tbody>\n",
       "</table>\n",
       "</div>"
      ],
      "text/plain": [
       "    0\n",
       "0  75\n",
       "1  74\n",
       "2  81\n",
       "3  68\n",
       "4  19\n",
       "5  32\n",
       "6  77"
      ]
     },
     "execution_count": 62,
     "metadata": {},
     "output_type": "execute_result"
    }
   ],
   "source": [
    "pd.DataFrame(p_m.values())"
   ]
  },
  {
   "cell_type": "code",
   "execution_count": 63,
   "id": "e05b2599",
   "metadata": {},
   "outputs": [
    {
     "data": {
      "text/plain": [
       "['accuracy',\n",
       " 'precision',\n",
       " 'sensitivity',\n",
       " 'specificity',\n",
       " 'false_negative_rate',\n",
       " 'false_positive_rate',\n",
       " 'f1_score']"
      ]
     },
     "execution_count": 63,
     "metadata": {},
     "output_type": "execute_result"
    }
   ],
   "source": [
    "list(p_m.keys())"
   ]
  },
  {
   "cell_type": "code",
   "execution_count": null,
   "id": "f0b19258",
   "metadata": {},
   "outputs": [],
   "source": []
  },
  {
   "cell_type": "code",
   "execution_count": null,
   "id": "c93b50b7",
   "metadata": {},
   "outputs": [],
   "source": []
  },
  {
   "cell_type": "code",
   "execution_count": 64,
   "id": "5694b1e2",
   "metadata": {},
   "outputs": [
    {
     "name": "stdout",
     "output_type": "stream",
     "text": [
      "              precision    recall  f1-score   support\n",
      "\n",
      "           0       0.75      0.68      0.71       148\n",
      "           1       0.74      0.81      0.77       172\n",
      "\n",
      "    accuracy                           0.75       320\n",
      "   macro avg       0.75      0.74      0.74       320\n",
      "weighted avg       0.75      0.75      0.75       320\n",
      "\n"
     ]
    }
   ],
   "source": [
    "print(classification_report(Y_test,prediction))"
   ]
  },
  {
   "cell_type": "code",
   "execution_count": null,
   "id": "6e41e2c7",
   "metadata": {},
   "outputs": [],
   "source": []
  },
  {
   "cell_type": "code",
   "execution_count": null,
   "id": "92fdd8a9",
   "metadata": {},
   "outputs": [],
   "source": []
  },
  {
   "cell_type": "code",
   "execution_count": null,
   "id": "5d951615",
   "metadata": {},
   "outputs": [],
   "source": []
  }
 ],
 "metadata": {
  "kernelspec": {
   "display_name": "Python 3 (ipykernel)",
   "language": "python",
   "name": "python3"
  },
  "language_info": {
   "codemirror_mode": {
    "name": "ipython",
    "version": 3
   },
   "file_extension": ".py",
   "mimetype": "text/x-python",
   "name": "python",
   "nbconvert_exporter": "python",
   "pygments_lexer": "ipython3",
   "version": "3.9.13"
  }
 },
 "nbformat": 4,
 "nbformat_minor": 5
}
