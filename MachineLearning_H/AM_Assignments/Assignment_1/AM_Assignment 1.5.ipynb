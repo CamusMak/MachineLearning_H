{
 "cells": [
  {
   "cell_type": "markdown",
   "metadata": {},
   "source": [
    "# KNN Project Exercise \n",
    "\n",
    "Due to the simplicity of KNN for Classification, let's focus on using a PipeLine and a GridSearchCV tool, since these skills can be generalized for any model."
   ]
  },
  {
   "cell_type": "markdown",
   "metadata": {},
   "source": [
    "\n",
    "## The Sonar Data \n",
    "\n",
    "### Detecting a Rock or a Mine\n",
    "\n",
    "Sonar (sound navigation ranging) is a technique that uses sound propagation (usually underwater, as in submarine navigation) to navigate, communicate with or detect objects on or under the surface of the water, such as other vessels.\n",
    "\n",
    "<img src=\"sonar.jpg\"  style=\"max-height: 500px; max-width: 500px;\">\n",
    "\n",
    "The data set contains the response metrics for 60 separate sonar frequencies sent out against a known mine field (and known rocks). These frequencies are then labeled with the known object they were beaming the sound at (either a rock or a mine). \n",
    "\n",
    "<img src=\"mine.jpg\"  style=\"max-height: 500px; max-width: 500px;\">\n",
    "\n",
    "Our main goal is to create a machine learning model capable of detecting the difference between a rock or a mine based on the response of the 60 separate sonar frequencies.\n",
    "\n",
    "\n",
    "Data Source: https://archive.ics.uci.edu/ml/datasets/Connectionist+Bench+(Sonar,+Mines+vs.+Rocks)\n",
    "\n",
    "### Complete the Tasks in bold\n",
    "\n",
    "**TASK: Run the cells below to load the data.**"
   ]
  },
  {
   "cell_type": "code",
   "execution_count": 1,
   "metadata": {},
   "outputs": [],
   "source": [
    "import numpy as np\n",
    "import pandas as pd\n",
    "import seaborn as sns\n",
    "import matplotlib.pyplot as plt"
   ]
  },
  {
   "cell_type": "code",
   "execution_count": 2,
   "metadata": {},
   "outputs": [],
   "source": [
    "df = pd.read_csv('sonar.all-data.csv')"
   ]
  },
  {
   "cell_type": "code",
   "execution_count": 3,
   "metadata": {
    "scrolled": true
   },
   "outputs": [
    {
     "data": {
      "text/html": [
       "<div>\n",
       "<style scoped>\n",
       "    .dataframe tbody tr th:only-of-type {\n",
       "        vertical-align: middle;\n",
       "    }\n",
       "\n",
       "    .dataframe tbody tr th {\n",
       "        vertical-align: top;\n",
       "    }\n",
       "\n",
       "    .dataframe thead th {\n",
       "        text-align: right;\n",
       "    }\n",
       "</style>\n",
       "<table border=\"1\" class=\"dataframe\">\n",
       "  <thead>\n",
       "    <tr style=\"text-align: right;\">\n",
       "      <th></th>\n",
       "      <th>Freq_1</th>\n",
       "      <th>Freq_2</th>\n",
       "      <th>Freq_3</th>\n",
       "      <th>Freq_4</th>\n",
       "      <th>Freq_5</th>\n",
       "      <th>Freq_6</th>\n",
       "      <th>Freq_7</th>\n",
       "      <th>Freq_8</th>\n",
       "      <th>Freq_9</th>\n",
       "      <th>Freq_10</th>\n",
       "      <th>...</th>\n",
       "      <th>Freq_52</th>\n",
       "      <th>Freq_53</th>\n",
       "      <th>Freq_54</th>\n",
       "      <th>Freq_55</th>\n",
       "      <th>Freq_56</th>\n",
       "      <th>Freq_57</th>\n",
       "      <th>Freq_58</th>\n",
       "      <th>Freq_59</th>\n",
       "      <th>Freq_60</th>\n",
       "      <th>Label</th>\n",
       "    </tr>\n",
       "  </thead>\n",
       "  <tbody>\n",
       "    <tr>\n",
       "      <th>0</th>\n",
       "      <td>0.0200</td>\n",
       "      <td>0.0371</td>\n",
       "      <td>0.0428</td>\n",
       "      <td>0.0207</td>\n",
       "      <td>0.0954</td>\n",
       "      <td>0.0986</td>\n",
       "      <td>0.1539</td>\n",
       "      <td>0.1601</td>\n",
       "      <td>0.3109</td>\n",
       "      <td>0.2111</td>\n",
       "      <td>...</td>\n",
       "      <td>0.0027</td>\n",
       "      <td>0.0065</td>\n",
       "      <td>0.0159</td>\n",
       "      <td>0.0072</td>\n",
       "      <td>0.0167</td>\n",
       "      <td>0.0180</td>\n",
       "      <td>0.0084</td>\n",
       "      <td>0.0090</td>\n",
       "      <td>0.0032</td>\n",
       "      <td>R</td>\n",
       "    </tr>\n",
       "    <tr>\n",
       "      <th>1</th>\n",
       "      <td>0.0453</td>\n",
       "      <td>0.0523</td>\n",
       "      <td>0.0843</td>\n",
       "      <td>0.0689</td>\n",
       "      <td>0.1183</td>\n",
       "      <td>0.2583</td>\n",
       "      <td>0.2156</td>\n",
       "      <td>0.3481</td>\n",
       "      <td>0.3337</td>\n",
       "      <td>0.2872</td>\n",
       "      <td>...</td>\n",
       "      <td>0.0084</td>\n",
       "      <td>0.0089</td>\n",
       "      <td>0.0048</td>\n",
       "      <td>0.0094</td>\n",
       "      <td>0.0191</td>\n",
       "      <td>0.0140</td>\n",
       "      <td>0.0049</td>\n",
       "      <td>0.0052</td>\n",
       "      <td>0.0044</td>\n",
       "      <td>R</td>\n",
       "    </tr>\n",
       "    <tr>\n",
       "      <th>2</th>\n",
       "      <td>0.0262</td>\n",
       "      <td>0.0582</td>\n",
       "      <td>0.1099</td>\n",
       "      <td>0.1083</td>\n",
       "      <td>0.0974</td>\n",
       "      <td>0.2280</td>\n",
       "      <td>0.2431</td>\n",
       "      <td>0.3771</td>\n",
       "      <td>0.5598</td>\n",
       "      <td>0.6194</td>\n",
       "      <td>...</td>\n",
       "      <td>0.0232</td>\n",
       "      <td>0.0166</td>\n",
       "      <td>0.0095</td>\n",
       "      <td>0.0180</td>\n",
       "      <td>0.0244</td>\n",
       "      <td>0.0316</td>\n",
       "      <td>0.0164</td>\n",
       "      <td>0.0095</td>\n",
       "      <td>0.0078</td>\n",
       "      <td>R</td>\n",
       "    </tr>\n",
       "    <tr>\n",
       "      <th>3</th>\n",
       "      <td>0.0100</td>\n",
       "      <td>0.0171</td>\n",
       "      <td>0.0623</td>\n",
       "      <td>0.0205</td>\n",
       "      <td>0.0205</td>\n",
       "      <td>0.0368</td>\n",
       "      <td>0.1098</td>\n",
       "      <td>0.1276</td>\n",
       "      <td>0.0598</td>\n",
       "      <td>0.1264</td>\n",
       "      <td>...</td>\n",
       "      <td>0.0121</td>\n",
       "      <td>0.0036</td>\n",
       "      <td>0.0150</td>\n",
       "      <td>0.0085</td>\n",
       "      <td>0.0073</td>\n",
       "      <td>0.0050</td>\n",
       "      <td>0.0044</td>\n",
       "      <td>0.0040</td>\n",
       "      <td>0.0117</td>\n",
       "      <td>R</td>\n",
       "    </tr>\n",
       "    <tr>\n",
       "      <th>4</th>\n",
       "      <td>0.0762</td>\n",
       "      <td>0.0666</td>\n",
       "      <td>0.0481</td>\n",
       "      <td>0.0394</td>\n",
       "      <td>0.0590</td>\n",
       "      <td>0.0649</td>\n",
       "      <td>0.1209</td>\n",
       "      <td>0.2467</td>\n",
       "      <td>0.3564</td>\n",
       "      <td>0.4459</td>\n",
       "      <td>...</td>\n",
       "      <td>0.0031</td>\n",
       "      <td>0.0054</td>\n",
       "      <td>0.0105</td>\n",
       "      <td>0.0110</td>\n",
       "      <td>0.0015</td>\n",
       "      <td>0.0072</td>\n",
       "      <td>0.0048</td>\n",
       "      <td>0.0107</td>\n",
       "      <td>0.0094</td>\n",
       "      <td>R</td>\n",
       "    </tr>\n",
       "  </tbody>\n",
       "</table>\n",
       "<p>5 rows × 61 columns</p>\n",
       "</div>"
      ],
      "text/plain": [
       "   Freq_1  Freq_2  Freq_3  Freq_4  Freq_5  Freq_6  Freq_7  Freq_8  Freq_9  \\\n",
       "0  0.0200  0.0371  0.0428  0.0207  0.0954  0.0986  0.1539  0.1601  0.3109   \n",
       "1  0.0453  0.0523  0.0843  0.0689  0.1183  0.2583  0.2156  0.3481  0.3337   \n",
       "2  0.0262  0.0582  0.1099  0.1083  0.0974  0.2280  0.2431  0.3771  0.5598   \n",
       "3  0.0100  0.0171  0.0623  0.0205  0.0205  0.0368  0.1098  0.1276  0.0598   \n",
       "4  0.0762  0.0666  0.0481  0.0394  0.0590  0.0649  0.1209  0.2467  0.3564   \n",
       "\n",
       "   Freq_10  ...  Freq_52  Freq_53  Freq_54  Freq_55  Freq_56  Freq_57  \\\n",
       "0   0.2111  ...   0.0027   0.0065   0.0159   0.0072   0.0167   0.0180   \n",
       "1   0.2872  ...   0.0084   0.0089   0.0048   0.0094   0.0191   0.0140   \n",
       "2   0.6194  ...   0.0232   0.0166   0.0095   0.0180   0.0244   0.0316   \n",
       "3   0.1264  ...   0.0121   0.0036   0.0150   0.0085   0.0073   0.0050   \n",
       "4   0.4459  ...   0.0031   0.0054   0.0105   0.0110   0.0015   0.0072   \n",
       "\n",
       "   Freq_58  Freq_59  Freq_60  Label  \n",
       "0   0.0084   0.0090   0.0032      R  \n",
       "1   0.0049   0.0052   0.0044      R  \n",
       "2   0.0164   0.0095   0.0078      R  \n",
       "3   0.0044   0.0040   0.0117      R  \n",
       "4   0.0048   0.0107   0.0094      R  \n",
       "\n",
       "[5 rows x 61 columns]"
      ]
     },
     "execution_count": 3,
     "metadata": {},
     "output_type": "execute_result"
    }
   ],
   "source": [
    "df.head()"
   ]
  },
  {
   "cell_type": "code",
   "execution_count": 4,
   "metadata": {},
   "outputs": [
    {
     "data": {
      "text/plain": [
       "0"
      ]
     },
     "execution_count": 4,
     "metadata": {},
     "output_type": "execute_result"
    }
   ],
   "source": [
    "df.isna().sum().sum()"
   ]
  },
  {
   "cell_type": "code",
   "execution_count": 5,
   "metadata": {},
   "outputs": [
    {
     "name": "stdout",
     "output_type": "stream",
     "text": [
      "(208, 61)\n",
      "<class 'pandas.core.frame.DataFrame'>\n",
      "RangeIndex: 208 entries, 0 to 207\n",
      "Data columns (total 61 columns):\n",
      " #   Column   Non-Null Count  Dtype  \n",
      "---  ------   --------------  -----  \n",
      " 0   Freq_1   208 non-null    float64\n",
      " 1   Freq_2   208 non-null    float64\n",
      " 2   Freq_3   208 non-null    float64\n",
      " 3   Freq_4   208 non-null    float64\n",
      " 4   Freq_5   208 non-null    float64\n",
      " 5   Freq_6   208 non-null    float64\n",
      " 6   Freq_7   208 non-null    float64\n",
      " 7   Freq_8   208 non-null    float64\n",
      " 8   Freq_9   208 non-null    float64\n",
      " 9   Freq_10  208 non-null    float64\n",
      " 10  Freq_11  208 non-null    float64\n",
      " 11  Freq_12  208 non-null    float64\n",
      " 12  Freq_13  208 non-null    float64\n",
      " 13  Freq_14  208 non-null    float64\n",
      " 14  Freq_15  208 non-null    float64\n",
      " 15  Freq_16  208 non-null    float64\n",
      " 16  Freq_17  208 non-null    float64\n",
      " 17  Freq_18  208 non-null    float64\n",
      " 18  Freq_19  208 non-null    float64\n",
      " 19  Freq_20  208 non-null    float64\n",
      " 20  Freq_21  208 non-null    float64\n",
      " 21  Freq_22  208 non-null    float64\n",
      " 22  Freq_23  208 non-null    float64\n",
      " 23  Freq_24  208 non-null    float64\n",
      " 24  Freq_25  208 non-null    float64\n",
      " 25  Freq_26  208 non-null    float64\n",
      " 26  Freq_27  208 non-null    float64\n",
      " 27  Freq_28  208 non-null    float64\n",
      " 28  Freq_29  208 non-null    float64\n",
      " 29  Freq_30  208 non-null    float64\n",
      " 30  Freq_31  208 non-null    float64\n",
      " 31  Freq_32  208 non-null    float64\n",
      " 32  Freq_33  208 non-null    float64\n",
      " 33  Freq_34  208 non-null    float64\n",
      " 34  Freq_35  208 non-null    float64\n",
      " 35  Freq_36  208 non-null    float64\n",
      " 36  Freq_37  208 non-null    float64\n",
      " 37  Freq_38  208 non-null    float64\n",
      " 38  Freq_39  208 non-null    float64\n",
      " 39  Freq_40  208 non-null    float64\n",
      " 40  Freq_41  208 non-null    float64\n",
      " 41  Freq_42  208 non-null    float64\n",
      " 42  Freq_43  208 non-null    float64\n",
      " 43  Freq_44  208 non-null    float64\n",
      " 44  Freq_45  208 non-null    float64\n",
      " 45  Freq_46  208 non-null    float64\n",
      " 46  Freq_47  208 non-null    float64\n",
      " 47  Freq_48  208 non-null    float64\n",
      " 48  Freq_49  208 non-null    float64\n",
      " 49  Freq_50  208 non-null    float64\n",
      " 50  Freq_51  208 non-null    float64\n",
      " 51  Freq_52  208 non-null    float64\n",
      " 52  Freq_53  208 non-null    float64\n",
      " 53  Freq_54  208 non-null    float64\n",
      " 54  Freq_55  208 non-null    float64\n",
      " 55  Freq_56  208 non-null    float64\n",
      " 56  Freq_57  208 non-null    float64\n",
      " 57  Freq_58  208 non-null    float64\n",
      " 58  Freq_59  208 non-null    float64\n",
      " 59  Freq_60  208 non-null    float64\n",
      " 60  Label    208 non-null    object \n",
      "dtypes: float64(60), object(1)\n",
      "memory usage: 99.2+ KB\n"
     ]
    }
   ],
   "source": [
    "print(df.shape)\n",
    "df.info()"
   ]
  },
  {
   "cell_type": "code",
   "execution_count": 6,
   "metadata": {},
   "outputs": [
    {
     "data": {
      "text/plain": [
       "array(['R', 'M'], dtype=object)"
      ]
     },
     "execution_count": 6,
     "metadata": {},
     "output_type": "execute_result"
    }
   ],
   "source": [
    "df.Label.unique()"
   ]
  },
  {
   "cell_type": "code",
   "execution_count": 7,
   "metadata": {},
   "outputs": [],
   "source": [
    "df['Label'] = np.where(df['Label'] == 'M',1,0)"
   ]
  },
  {
   "cell_type": "markdown",
   "metadata": {},
   "source": [
    "## Data Exploration\n",
    "\n",
    "**TASK: Create a heatmap of the correlation between the difference frequency responses.**"
   ]
  },
  {
   "cell_type": "code",
   "execution_count": 8,
   "metadata": {},
   "outputs": [
    {
     "data": {
      "text/html": [
       "<div>\n",
       "<style scoped>\n",
       "    .dataframe tbody tr th:only-of-type {\n",
       "        vertical-align: middle;\n",
       "    }\n",
       "\n",
       "    .dataframe tbody tr th {\n",
       "        vertical-align: top;\n",
       "    }\n",
       "\n",
       "    .dataframe thead th {\n",
       "        text-align: right;\n",
       "    }\n",
       "</style>\n",
       "<table border=\"1\" class=\"dataframe\">\n",
       "  <thead>\n",
       "    <tr style=\"text-align: right;\">\n",
       "      <th></th>\n",
       "      <th>Freq_1</th>\n",
       "      <th>Freq_2</th>\n",
       "      <th>Freq_3</th>\n",
       "      <th>Freq_4</th>\n",
       "      <th>Freq_5</th>\n",
       "      <th>Freq_6</th>\n",
       "      <th>Freq_7</th>\n",
       "      <th>Freq_8</th>\n",
       "      <th>Freq_9</th>\n",
       "      <th>Freq_10</th>\n",
       "      <th>...</th>\n",
       "      <th>Freq_51</th>\n",
       "      <th>Freq_52</th>\n",
       "      <th>Freq_53</th>\n",
       "      <th>Freq_54</th>\n",
       "      <th>Freq_55</th>\n",
       "      <th>Freq_56</th>\n",
       "      <th>Freq_57</th>\n",
       "      <th>Freq_58</th>\n",
       "      <th>Freq_59</th>\n",
       "      <th>Freq_60</th>\n",
       "    </tr>\n",
       "  </thead>\n",
       "  <tbody>\n",
       "    <tr>\n",
       "      <th>Freq_1</th>\n",
       "      <td>1.000000</td>\n",
       "      <td>0.735896</td>\n",
       "      <td>0.571537</td>\n",
       "      <td>0.491438</td>\n",
       "      <td>0.344797</td>\n",
       "      <td>0.238921</td>\n",
       "      <td>0.260815</td>\n",
       "      <td>0.355523</td>\n",
       "      <td>0.353420</td>\n",
       "      <td>0.318276</td>\n",
       "      <td>...</td>\n",
       "      <td>0.254450</td>\n",
       "      <td>0.355299</td>\n",
       "      <td>0.311729</td>\n",
       "      <td>0.322299</td>\n",
       "      <td>0.312067</td>\n",
       "      <td>0.220642</td>\n",
       "      <td>0.313725</td>\n",
       "      <td>0.368132</td>\n",
       "      <td>0.357116</td>\n",
       "      <td>0.347078</td>\n",
       "    </tr>\n",
       "    <tr>\n",
       "      <th>Freq_2</th>\n",
       "      <td>0.735896</td>\n",
       "      <td>1.000000</td>\n",
       "      <td>0.779916</td>\n",
       "      <td>0.606684</td>\n",
       "      <td>0.419669</td>\n",
       "      <td>0.332329</td>\n",
       "      <td>0.279040</td>\n",
       "      <td>0.334615</td>\n",
       "      <td>0.316733</td>\n",
       "      <td>0.270782</td>\n",
       "      <td>...</td>\n",
       "      <td>0.320538</td>\n",
       "      <td>0.434548</td>\n",
       "      <td>0.346076</td>\n",
       "      <td>0.383960</td>\n",
       "      <td>0.380165</td>\n",
       "      <td>0.262263</td>\n",
       "      <td>0.280341</td>\n",
       "      <td>0.353042</td>\n",
       "      <td>0.352200</td>\n",
       "      <td>0.358761</td>\n",
       "    </tr>\n",
       "    <tr>\n",
       "      <th>Freq_3</th>\n",
       "      <td>0.571537</td>\n",
       "      <td>0.779916</td>\n",
       "      <td>1.000000</td>\n",
       "      <td>0.781786</td>\n",
       "      <td>0.546141</td>\n",
       "      <td>0.346275</td>\n",
       "      <td>0.190434</td>\n",
       "      <td>0.237884</td>\n",
       "      <td>0.252691</td>\n",
       "      <td>0.219637</td>\n",
       "      <td>...</td>\n",
       "      <td>0.238110</td>\n",
       "      <td>0.394076</td>\n",
       "      <td>0.332914</td>\n",
       "      <td>0.367186</td>\n",
       "      <td>0.289731</td>\n",
       "      <td>0.287661</td>\n",
       "      <td>0.380819</td>\n",
       "      <td>0.334108</td>\n",
       "      <td>0.425047</td>\n",
       "      <td>0.373948</td>\n",
       "    </tr>\n",
       "    <tr>\n",
       "      <th>Freq_4</th>\n",
       "      <td>0.491438</td>\n",
       "      <td>0.606684</td>\n",
       "      <td>0.781786</td>\n",
       "      <td>1.000000</td>\n",
       "      <td>0.726943</td>\n",
       "      <td>0.352805</td>\n",
       "      <td>0.246440</td>\n",
       "      <td>0.246742</td>\n",
       "      <td>0.247078</td>\n",
       "      <td>0.237769</td>\n",
       "      <td>...</td>\n",
       "      <td>0.174676</td>\n",
       "      <td>0.374651</td>\n",
       "      <td>0.364772</td>\n",
       "      <td>0.334211</td>\n",
       "      <td>0.284955</td>\n",
       "      <td>0.280938</td>\n",
       "      <td>0.340254</td>\n",
       "      <td>0.344865</td>\n",
       "      <td>0.420266</td>\n",
       "      <td>0.400626</td>\n",
       "    </tr>\n",
       "    <tr>\n",
       "      <th>Freq_5</th>\n",
       "      <td>0.344797</td>\n",
       "      <td>0.419669</td>\n",
       "      <td>0.546141</td>\n",
       "      <td>0.726943</td>\n",
       "      <td>1.000000</td>\n",
       "      <td>0.597053</td>\n",
       "      <td>0.335422</td>\n",
       "      <td>0.204006</td>\n",
       "      <td>0.177906</td>\n",
       "      <td>0.183219</td>\n",
       "      <td>...</td>\n",
       "      <td>0.115936</td>\n",
       "      <td>0.266617</td>\n",
       "      <td>0.314985</td>\n",
       "      <td>0.205306</td>\n",
       "      <td>0.196472</td>\n",
       "      <td>0.199323</td>\n",
       "      <td>0.219395</td>\n",
       "      <td>0.238793</td>\n",
       "      <td>0.290982</td>\n",
       "      <td>0.253710</td>\n",
       "    </tr>\n",
       "  </tbody>\n",
       "</table>\n",
       "<p>5 rows × 60 columns</p>\n",
       "</div>"
      ],
      "text/plain": [
       "          Freq_1    Freq_2    Freq_3    Freq_4    Freq_5    Freq_6    Freq_7  \\\n",
       "Freq_1  1.000000  0.735896  0.571537  0.491438  0.344797  0.238921  0.260815   \n",
       "Freq_2  0.735896  1.000000  0.779916  0.606684  0.419669  0.332329  0.279040   \n",
       "Freq_3  0.571537  0.779916  1.000000  0.781786  0.546141  0.346275  0.190434   \n",
       "Freq_4  0.491438  0.606684  0.781786  1.000000  0.726943  0.352805  0.246440   \n",
       "Freq_5  0.344797  0.419669  0.546141  0.726943  1.000000  0.597053  0.335422   \n",
       "\n",
       "          Freq_8    Freq_9   Freq_10  ...   Freq_51   Freq_52   Freq_53  \\\n",
       "Freq_1  0.355523  0.353420  0.318276  ...  0.254450  0.355299  0.311729   \n",
       "Freq_2  0.334615  0.316733  0.270782  ...  0.320538  0.434548  0.346076   \n",
       "Freq_3  0.237884  0.252691  0.219637  ...  0.238110  0.394076  0.332914   \n",
       "Freq_4  0.246742  0.247078  0.237769  ...  0.174676  0.374651  0.364772   \n",
       "Freq_5  0.204006  0.177906  0.183219  ...  0.115936  0.266617  0.314985   \n",
       "\n",
       "         Freq_54   Freq_55   Freq_56   Freq_57   Freq_58   Freq_59   Freq_60  \n",
       "Freq_1  0.322299  0.312067  0.220642  0.313725  0.368132  0.357116  0.347078  \n",
       "Freq_2  0.383960  0.380165  0.262263  0.280341  0.353042  0.352200  0.358761  \n",
       "Freq_3  0.367186  0.289731  0.287661  0.380819  0.334108  0.425047  0.373948  \n",
       "Freq_4  0.334211  0.284955  0.280938  0.340254  0.344865  0.420266  0.400626  \n",
       "Freq_5  0.205306  0.196472  0.199323  0.219395  0.238793  0.290982  0.253710  \n",
       "\n",
       "[5 rows x 60 columns]"
      ]
     },
     "execution_count": 8,
     "metadata": {},
     "output_type": "execute_result"
    }
   ],
   "source": [
    "corr = df.drop(\"Label\",axis=1).corr()\n",
    "corr.head()"
   ]
  },
  {
   "cell_type": "code",
   "execution_count": 9,
   "metadata": {},
   "outputs": [
    {
     "data": {
      "text/plain": [
       "(60, 60)"
      ]
     },
     "execution_count": 9,
     "metadata": {},
     "output_type": "execute_result"
    }
   ],
   "source": [
    "corr.shape"
   ]
  },
  {
   "cell_type": "code",
   "execution_count": 10,
   "metadata": {},
   "outputs": [
    {
     "data": {
      "text/plain": [
       "<matplotlib.image.AxesImage at 0x23b5c702910>"
      ]
     },
     "execution_count": 10,
     "metadata": {},
     "output_type": "execute_result"
    },
    {
     "data": {
      "image/png": "[encoded data removed]",
      "text/plain": [
       "<Figure size 640x480 with 1 Axes>"
      ]
     },
     "metadata": {},
     "output_type": "display_data"
    }
   ],
   "source": [
    "plt.imshow(corr,data=corr)"
   ]
  },
  {
   "cell_type": "code",
   "execution_count": null,
   "metadata": {},
   "outputs": [],
   "source": [
    "plt.figure(figsize=(14,9))\n",
    "\n",
    "xticks = df.drop(\"Label\",axis=1).columns\n",
    "yticks = df.drop(\"Label\",axis=1).columns\n",
    "\n",
    "\n",
    "sns.set_theme(style = 'white')\n",
    "sns.heatmap(corr,cmap='Reds',xticklabels = xticks,yticklabels=yticks)\n",
    "\n",
    "# sns.heatmap?"
   ]
  },
  {
   "cell_type": "code",
   "execution_count": null,
   "metadata": {},
   "outputs": [],
   "source": [
    "sns.clustermap(corr,xticklabels = xticks,yticklabels=yticks)"
   ]
  },
  {
   "cell_type": "code",
   "execution_count": null,
   "metadata": {},
   "outputs": [],
   "source": [
    "# CODE HERE"
   ]
  },
  {
   "cell_type": "code",
   "execution_count": null,
   "metadata": {
    "scrolled": false
   },
   "outputs": [],
   "source": []
  },
  {
   "cell_type": "markdown",
   "metadata": {},
   "source": [
    "**TASK: What are the top 5 correlated frequencies with the target\\label?**\n",
    "\n",
    "*Note: You many need to map the label to 0s and 1s.*\n",
    "\n",
    "*Additional Note: We're looking for **absolute** correlation values.*"
   ]
  },
  {
   "cell_type": "code",
   "execution_count": null,
   "metadata": {},
   "outputs": [],
   "source": [
    "target_corr = abs(df.corr()[\"Label\"]).sort_values().tail(6)\n",
    "target_corr"
   ]
  },
  {
   "cell_type": "code",
   "execution_count": null,
   "metadata": {},
   "outputs": [],
   "source": [
    "#CODE HERE"
   ]
  },
  {
   "cell_type": "code",
   "execution_count": null,
   "metadata": {},
   "outputs": [],
   "source": []
  },
  {
   "cell_type": "markdown",
   "metadata": {},
   "source": [
    "## Train | Test Split\n",
    "\n",
    "Our approach here will be one of using Cross Validation on 90% of the dataset, and then judging our results on a final test set of 10% to evaluate our model.\n",
    "\n",
    "**TASK: Split the data into features and labels, and then split into a training set and test set, with 90% for Cross-Validation training, and 10% for a final test set.**\n",
    "\n",
    "*Note: The solution uses a random_state=42*"
   ]
  },
  {
   "cell_type": "code",
   "execution_count": null,
   "metadata": {},
   "outputs": [],
   "source": [
    "# CODE HERE"
   ]
  },
  {
   "cell_type": "code",
   "execution_count": null,
   "metadata": {},
   "outputs": [],
   "source": [
    "from sklearn.model_selection import train_test_split\n",
    "from sklearn.pipeline import Pipeline\n",
    "from sklearn.neighbors  import KNeighborsClassifier\n",
    "from sklearn.preprocessing import StandardScaler\n",
    "from sklearn.model_selection import GridSearchCV\n",
    "from sklearn.model_selection import KFold\n",
    "from sklearn.metrics import confusion_matrix\n",
    "from sklearn.metrics import classification_report"
   ]
  },
  {
   "cell_type": "code",
   "execution_count": null,
   "metadata": {},
   "outputs": [],
   "source": [
    "target = df[\"Label\"].to_numpy()\n",
    "features = df.drop(axis=1,columns='Label').to_numpy()"
   ]
  },
  {
   "cell_type": "code",
   "execution_count": null,
   "metadata": {},
   "outputs": [],
   "source": [
    "X_train,X_test,Y_train,Y_test = train_test_split(features,target,test_size=0.1,random_state=90)"
   ]
  },
  {
   "cell_type": "code",
   "execution_count": null,
   "metadata": {},
   "outputs": [],
   "source": [
    "Y_train.dtype"
   ]
  },
  {
   "cell_type": "markdown",
   "metadata": {},
   "source": [
    "**TASK: Create a PipeLine that contains both a StandardScaler and a KNN model**"
   ]
  },
  {
   "cell_type": "code",
   "execution_count": null,
   "metadata": {},
   "outputs": [],
   "source": [
    "# create a pipeline\n",
    "pipeline = Pipeline([\n",
    "    (\"scaler\",StandardScaler()),\n",
    "    (\"model\",KNeighborsClassifier())\n",
    "])"
   ]
  },
  {
   "cell_type": "markdown",
   "metadata": {},
   "source": [
    "**TASK: Perform a grid-search with the pipeline to test various values of k and report back the best performing parameters.**"
   ]
  },
  {
   "cell_type": "code",
   "execution_count": null,
   "metadata": {},
   "outputs": [],
   "source": [
    "pipeline.get_params().keys()"
   ]
  },
  {
   "cell_type": "code",
   "execution_count": null,
   "metadata": {},
   "outputs": [],
   "source": [
    "# param_grid = {\"model__n_neighbors\" : list(np.arange(1,int(np.sqrt(X_train.shape[0]))))}\n",
    "\n",
    "# create a param grid\n",
    "param_grid = {\"model__n_neighbors\" : list(np.arange(1,30))}\n",
    "\n",
    "cv = KFold(n_splits=10,shuffle=True,random_state=9)"
   ]
  },
  {
   "cell_type": "code",
   "execution_count": null,
   "metadata": {},
   "outputs": [],
   "source": [
    "# perfomr a gridsearch\n",
    "gr_search = GridSearchCV(pipeline,param_grid,scoring='accuracy',cv=cv,error_score=\"raise\")\n",
    "gr_search.fit(X_train,Y_train)\n"
   ]
  },
  {
   "cell_type": "code",
   "execution_count": null,
   "metadata": {},
   "outputs": [],
   "source": [
    "print(gr_search)"
   ]
  },
  {
   "cell_type": "code",
   "execution_count": null,
   "metadata": {},
   "outputs": [],
   "source": []
  },
  {
   "cell_type": "code",
   "execution_count": null,
   "metadata": {},
   "outputs": [],
   "source": [
    "# CODE HERE"
   ]
  },
  {
   "cell_type": "code",
   "execution_count": null,
   "metadata": {
    "scrolled": true
   },
   "outputs": [],
   "source": []
  },
  {
   "cell_type": "code",
   "execution_count": null,
   "metadata": {},
   "outputs": [],
   "source": []
  },
  {
   "cell_type": "code",
   "execution_count": null,
   "metadata": {},
   "outputs": [],
   "source": []
  },
  {
   "cell_type": "code",
   "execution_count": null,
   "metadata": {},
   "outputs": [],
   "source": [
    "# grid searhc result\n",
    "gr_search.cv_results_"
   ]
  },
  {
   "cell_type": "code",
   "execution_count": null,
   "metadata": {},
   "outputs": [],
   "source": []
  },
  {
   "cell_type": "code",
   "execution_count": null,
   "metadata": {},
   "outputs": [],
   "source": []
  },
  {
   "cell_type": "markdown",
   "metadata": {},
   "source": [
    "**(HARD) TASK: Using the .cv_results_ dictionary, see if you can create a plot of the mean test scores per K value.**"
   ]
  },
  {
   "cell_type": "code",
   "execution_count": null,
   "metadata": {},
   "outputs": [],
   "source": [
    "#CODE HERE"
   ]
  },
  {
   "cell_type": "code",
   "execution_count": null,
   "metadata": {},
   "outputs": [],
   "source": [
    "mean_test_score = gr_search.cv_results_['mean_test_score']\n",
    "mean_test_score"
   ]
  },
  {
   "cell_type": "code",
   "execution_count": null,
   "metadata": {},
   "outputs": [],
   "source": [
    "plt.plot(list(param_grid.values())[0],mean_test_score,marker='o')\n",
    "plt.ylabel(\"Accuracy\")\n",
    "plt.xlabel(\"K\")\n",
    "\n",
    "plt.show()"
   ]
  },
  {
   "cell_type": "code",
   "execution_count": null,
   "metadata": {},
   "outputs": [],
   "source": []
  },
  {
   "cell_type": "code",
   "execution_count": null,
   "metadata": {},
   "outputs": [],
   "source": []
  },
  {
   "cell_type": "code",
   "execution_count": null,
   "metadata": {},
   "outputs": [],
   "source": []
  },
  {
   "cell_type": "markdown",
   "metadata": {},
   "source": [
    "### Final Model Evaluation\n",
    "\n",
    "**TASK: Using the grid classifier object from the previous step, get a final performance classification report and confusion matrix.**"
   ]
  },
  {
   "cell_type": "code",
   "execution_count": null,
   "metadata": {
    "scrolled": true
   },
   "outputs": [],
   "source": [
    "#Code Here\n",
    "\n",
    "prediction = gr_search.best_estimator_.predict(X_test)\n"
   ]
  },
  {
   "cell_type": "code",
   "execution_count": null,
   "metadata": {},
   "outputs": [],
   "source": [
    "confusion_matrix(Y_test,prediction)"
   ]
  },
  {
   "cell_type": "code",
   "execution_count": null,
   "metadata": {},
   "outputs": [],
   "source": []
  },
  {
   "cell_type": "code",
   "execution_count": null,
   "metadata": {},
   "outputs": [],
   "source": []
  },
  {
   "cell_type": "code",
   "execution_count": null,
   "metadata": {
    "scrolled": true
   },
   "outputs": [],
   "source": [
    "print(classification_report(Y_test,prediction,target_names=['M','R']))"
   ]
  },
  {
   "cell_type": "code",
   "execution_count": null,
   "metadata": {},
   "outputs": [],
   "source": []
  },
  {
   "cell_type": "code",
   "execution_count": null,
   "metadata": {},
   "outputs": [],
   "source": []
  },
  {
   "cell_type": "markdown",
   "metadata": {},
   "source": [
    "### Great Job!"
   ]
  },
  {
   "cell_type": "code",
   "execution_count": null,
   "metadata": {},
   "outputs": [],
   "source": []
  },
  {
   "cell_type": "markdown",
   "metadata": {},
   "source": [
    "### KKN from sctatch"
   ]
  },
  {
   "cell_type": "code",
   "execution_count": null,
   "metadata": {},
   "outputs": [],
   "source": [
    "from KNN import KNN"
   ]
  },
  {
   "cell_type": "code",
   "execution_count": null,
   "metadata": {},
   "outputs": [],
   "source": [
    "model_knn = KNN(4)\n",
    "model_knn.fit(X_train,Y_train)"
   ]
  },
  {
   "cell_type": "code",
   "execution_count": null,
   "metadata": {},
   "outputs": [],
   "source": [
    "k_list,accuracies = model_knn.validate()"
   ]
  },
  {
   "cell_type": "code",
   "execution_count": null,
   "metadata": {},
   "outputs": [],
   "source": [
    "best_k = k_list[np.argmax(accuracies)]\n",
    "max_accuracy = np.max(accuracies)\n",
    "best_k, max_accuracy"
   ]
  },
  {
   "cell_type": "code",
   "execution_count": null,
   "metadata": {},
   "outputs": [],
   "source": [
    "plt.plot(k_list,accuracies,marker='o')\n",
    "\n",
    "\n",
    "plt.axvline(x=best_k,ymin=0,ymax=max_accuracy/100,color='orange')\n",
    "plt.axhline(y=max_accuracy,xmin=0,xmax=best_k/29,color='orange')\n",
    "\n",
    "plt.ylim(0,100)"
   ]
  },
  {
   "cell_type": "code",
   "execution_count": null,
   "metadata": {},
   "outputs": [],
   "source": [
    "model_2 = KNN(best_k)\n",
    "model_2.fit(X_train,Y_train)"
   ]
  },
  {
   "cell_type": "code",
   "execution_count": null,
   "metadata": {},
   "outputs": [],
   "source": [
    "prediction = model_2.predict(X_test)"
   ]
  },
  {
   "cell_type": "code",
   "execution_count": null,
   "metadata": {},
   "outputs": [],
   "source": [
    "accuracy = model_2.accuracy(prediction,Y_test)\n",
    "accuracy"
   ]
  },
  {
   "cell_type": "code",
   "execution_count": null,
   "metadata": {},
   "outputs": [],
   "source": [
    "f1 = model_2.f1_score(prediction,Y_test)\n",
    "f1"
   ]
  },
  {
   "cell_type": "code",
   "execution_count": null,
   "metadata": {},
   "outputs": [],
   "source": []
  }
 ],
 "metadata": {
  "kernelspec": {
   "display_name": "Python 3 (ipykernel)",
   "language": "python",
   "name": "python3"
  },
  "language_info": {
   "codemirror_mode": {
    "name": "ipython",
    "version": 3
   },
   "file_extension": ".py",
   "mimetype": "text/x-python",
   "name": "python",
   "nbconvert_exporter": "python",
   "pygments_lexer": "ipython3",
   "version": "3.9.13"
  }
 },
 "nbformat": 4,
 "nbformat_minor": 4
}
